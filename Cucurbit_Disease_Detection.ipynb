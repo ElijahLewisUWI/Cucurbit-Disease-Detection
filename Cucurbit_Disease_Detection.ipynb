{
  "nbformat": 4,
  "nbformat_minor": 0,
  "metadata": {
    "colab": {
      "provenance": [],
      "authorship_tag": "ABX9TyPgF9ZMvKsBj8r39E960CZS",
      "include_colab_link": true
    },
    "kernelspec": {
      "name": "python3",
      "display_name": "Python 3"
    },
    "language_info": {
      "name": "python"
    }
  },
  "cells": [
    {
      "cell_type": "markdown",
      "metadata": {
        "id": "view-in-github",
        "colab_type": "text"
      },
      "source": [
        "<a href=\"https://colab.research.google.com/github/K-Means-Necessary-INFO-3604/Cucurbit-Disease-Detection/blob/%237.1-Import-the-Kaggle-Datasets---Annika/Cucurbit_Disease_Detection.ipynb\" target=\"_parent\"><img src=\"https://colab.research.google.com/assets/colab-badge.svg\" alt=\"Open In Colab\"/></a>"
      ]
    },
    {
      "cell_type": "code",
      "source": [
        "# Set seeds for reproducibility\n",
        "import random\n",
        "random.seed(0)\n",
        "\n",
        "import numpy as np\n",
        "np.random.seed(0)\n",
        "\n",
        "import tensorflow as tf\n",
        "tf.random.set_seed(0)"
      ],
      "metadata": {
        "id": "R-CaCp0EwW4O"
      },
      "execution_count": null,
      "outputs": []
    },
    {
      "cell_type": "code",
      "source": [
        "import os\n",
        "import json\n",
        "from zipfile import ZipFile\n",
        "from PIL import Image\n",
        "\n",
        "import numpy as np\n",
        "import matplotlib.pyplot as plt\n",
        "import matplotlib.image as mpimg\n",
        "from tensorflow.keras.preprocessing.image import ImageDataGenerator\n",
        "from tensorflow.keras import layers, models"
      ],
      "metadata": {
        "id": "yTUzSOZNwXV6"
      },
      "execution_count": null,
      "outputs": []
    },
    {
      "cell_type": "code",
      "source": [
        "!pip install kaggle"
      ],
      "metadata": {
        "colab": {
          "base_uri": "https://localhost:8080/"
        },
        "id": "dz6-gWeXwZ0_",
        "outputId": "ac5d2fcf-1020-4124-c5cc-c5078302941b"
      },
      "execution_count": null,
      "outputs": [
        {
          "output_type": "stream",
          "name": "stdout",
          "text": [
            "Requirement already satisfied: kaggle in /usr/local/lib/python3.11/dist-packages (1.6.17)\n",
            "Requirement already satisfied: six>=1.10 in /usr/local/lib/python3.11/dist-packages (from kaggle) (1.17.0)\n",
            "Requirement already satisfied: certifi>=2023.7.22 in /usr/local/lib/python3.11/dist-packages (from kaggle) (2024.12.14)\n",
            "Requirement already satisfied: python-dateutil in /usr/local/lib/python3.11/dist-packages (from kaggle) (2.8.2)\n",
            "Requirement already satisfied: requests in /usr/local/lib/python3.11/dist-packages (from kaggle) (2.32.3)\n",
            "Requirement already satisfied: tqdm in /usr/local/lib/python3.11/dist-packages (from kaggle) (4.67.1)\n",
            "Requirement already satisfied: python-slugify in /usr/local/lib/python3.11/dist-packages (from kaggle) (8.0.4)\n",
            "Requirement already satisfied: urllib3 in /usr/local/lib/python3.11/dist-packages (from kaggle) (2.3.0)\n",
            "Requirement already satisfied: bleach in /usr/local/lib/python3.11/dist-packages (from kaggle) (6.2.0)\n",
            "Requirement already satisfied: webencodings in /usr/local/lib/python3.11/dist-packages (from bleach->kaggle) (0.5.1)\n",
            "Requirement already satisfied: text-unidecode>=1.3 in /usr/local/lib/python3.11/dist-packages (from python-slugify->kaggle) (1.3)\n",
            "Requirement already satisfied: charset-normalizer<4,>=2 in /usr/local/lib/python3.11/dist-packages (from requests->kaggle) (3.4.1)\n",
            "Requirement already satisfied: idna<4,>=2.5 in /usr/local/lib/python3.11/dist-packages (from requests->kaggle) (3.10)\n"
          ]
        }
      ]
    },
    {
      "cell_type": "code",
      "source": [
        "kaggle_credentails = json.load(open(\"kaggle.json\"))"
      ],
      "metadata": {
        "id": "-ozzaa6vwcXp"
      },
      "execution_count": null,
      "outputs": []
    },
    {
      "cell_type": "code",
      "source": [
        "# setup Kaggle API key as environment variables\n",
        "os.environ['KAGGLE_USERNAME'] = kaggle_credentails[\"username\"]\n",
        "os.environ['KAGGLE_KEY'] = kaggle_credentails[\"key\"]"
      ],
      "metadata": {
        "id": "ZEgJICYrzLxQ"
      },
      "execution_count": null,
      "outputs": []
    },
    {
      "cell_type": "code",
      "source": [
        "!kaggle datasets download -d tahmidmir/pumpkin-leaf-diseases-dataset-from-bangladesh\n"
      ],
      "metadata": {
        "colab": {
          "base_uri": "https://localhost:8080/"
        },
        "id": "FbKsfogrzNnN",
        "outputId": "8744f50b-82ea-44f4-c450-49fff52f166c"
      },
      "execution_count": null,
      "outputs": [
        {
          "output_type": "stream",
          "name": "stdout",
          "text": [
            "Dataset URL: https://www.kaggle.com/datasets/tahmidmir/pumpkin-leaf-diseases-dataset-from-bangladesh\n",
            "License(s): Attribution 4.0 International (CC BY 4.0)\n",
            "Downloading pumpkin-leaf-diseases-dataset-from-bangladesh.zip to /content\n",
            " 98% 264M/270M [00:02<00:00, 85.4MB/s]\n",
            "100% 270M/270M [00:02<00:00, 101MB/s] \n"
          ]
        }
      ]
    },
    {
      "cell_type": "code",
      "source": [
        "!unzip pumpkin-leaf-diseases-dataset-from-bangladesh.zip -d /content/pumpkin_leaf_diseases\n"
      ],
      "metadata": {
        "id": "TRRwXa3dzQID"
      },
      "execution_count": null,
      "outputs": []
    },
    {
      "cell_type": "code",
      "source": [
        "!kaggle datasets download -d sujaykapadnis/cucumber-disease-recognition-dataset"
      ],
      "metadata": {
        "id": "J020gldaX8Kg",
        "colab": {
          "base_uri": "https://localhost:8080/"
        },
        "outputId": "a65762f0-0a8e-4ce1-f458-cb765e2db6e5"
      },
      "execution_count": null,
      "outputs": [
        {
          "output_type": "stream",
          "name": "stdout",
          "text": [
            "Dataset URL: https://www.kaggle.com/datasets/sujaykapadnis/cucumber-disease-recognition-dataset\n",
            "License(s): Attribution 4.0 International (CC BY 4.0)\n",
            "Downloading cucumber-disease-recognition-dataset.zip to /content\n",
            " 99% 2.58G/2.59G [00:23<00:00, 157MB/s]\n",
            "100% 2.59G/2.59G [00:23<00:00, 117MB/s]\n"
          ]
        }
      ]
    },
    {
      "cell_type": "code",
      "source": [
        "!unzip cucumber-disease-recognition-dataset.zip -d /content/cucumber_disease"
      ],
      "metadata": {
        "id": "KPZCVp4AYRTX"
      },
      "execution_count": null,
      "outputs": []
    },
    {
      "cell_type": "code",
      "source": [
        "!kaggle datasets download -d sujaykapadnis/watermelon-disease-recognition-dataset\n"
      ],
      "metadata": {
        "id": "_SzUqG2pYWZM",
        "colab": {
          "base_uri": "https://localhost:8080/"
        },
        "outputId": "edef506f-b9bb-4070-8000-50c2041b4b0f"
      },
      "execution_count": null,
      "outputs": [
        {
          "output_type": "stream",
          "name": "stdout",
          "text": [
            "Dataset URL: https://www.kaggle.com/datasets/sujaykapadnis/watermelon-disease-recognition-dataset\n",
            "License(s): Attribution 4.0 International (CC BY 4.0)\n",
            "Downloading watermelon-disease-recognition-dataset.zip to /content\n",
            "100% 6.21G/6.22G [01:10<00:00, 127MB/s]\n",
            "100% 6.22G/6.22G [01:10<00:00, 94.2MB/s]\n"
          ]
        }
      ]
    },
    {
      "cell_type": "code",
      "source": [
        "!unzip watermelon-disease-recognition-dataset.zip -d /content/watermelon_disease"
      ],
      "metadata": {
        "id": "5D1Dwz6TYc7e"
      },
      "execution_count": null,
      "outputs": []
    }
  ]
}